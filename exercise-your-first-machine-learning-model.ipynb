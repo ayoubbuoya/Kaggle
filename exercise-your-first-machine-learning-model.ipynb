{
 "cells": [
  {
   "cell_type": "markdown",
   "id": "fe43acc8",
   "metadata": {
    "papermill": {
     "duration": 0.008375,
     "end_time": "2022-09-10T10:16:01.846473",
     "exception": false,
     "start_time": "2022-09-10T10:16:01.838098",
     "status": "completed"
    },
    "tags": []
   },
   "source": [
    "**This notebook is an exercise in the [Introduction to Machine Learning](https://www.kaggle.com/learn/intro-to-machine-learning) course.  You can reference the tutorial at [this link](https://www.kaggle.com/dansbecker/your-first-machine-learning-model).**\n",
    "\n",
    "---\n"
   ]
  },
  {
   "cell_type": "markdown",
   "id": "1f79f5d7",
   "metadata": {
    "papermill": {
     "duration": 0.006785,
     "end_time": "2022-09-10T10:16:01.860866",
     "exception": false,
     "start_time": "2022-09-10T10:16:01.854081",
     "status": "completed"
    },
    "tags": []
   },
   "source": [
    "## Recap\n",
    "So far, you have loaded your data and reviewed it with the following code. Run this cell to set up your coding environment where the previous step left off."
   ]
  },
  {
   "cell_type": "code",
   "execution_count": 1,
   "id": "83de22d8",
   "metadata": {
    "execution": {
     "iopub.execute_input": "2022-09-10T10:16:01.878702Z",
     "iopub.status.busy": "2022-09-10T10:16:01.877614Z",
     "iopub.status.idle": "2022-09-10T10:16:03.402994Z",
     "shell.execute_reply": "2022-09-10T10:16:03.401185Z"
    },
    "papermill": {
     "duration": 1.537415,
     "end_time": "2022-09-10T10:16:03.405896",
     "exception": false,
     "start_time": "2022-09-10T10:16:01.868481",
     "status": "completed"
    },
    "tags": []
   },
   "outputs": [
    {
     "name": "stdout",
     "output_type": "stream",
     "text": [
      "Setup Complete\n"
     ]
    }
   ],
   "source": [
    "# Code you have previously used to load data\n",
    "import pandas as pd\n",
    "\n",
    "# Path of the file to read\n",
    "iowa_file_path = '../input/home-data-for-ml-course/train.csv'\n",
    "\n",
    "home_data = pd.read_csv(iowa_file_path)\n",
    "\n",
    "# Set up code checking\n",
    "from learntools.core import binder\n",
    "binder.bind(globals())\n",
    "from learntools.machine_learning.ex3 import *\n",
    "\n",
    "print(\"Setup Complete\")"
   ]
  },
  {
   "cell_type": "markdown",
   "id": "f8e1deb0",
   "metadata": {
    "papermill": {
     "duration": 0.007736,
     "end_time": "2022-09-10T10:16:03.419045",
     "exception": false,
     "start_time": "2022-09-10T10:16:03.411309",
     "status": "completed"
    },
    "tags": []
   },
   "source": [
    "# Exercises\n",
    "\n",
    "## Step 1: Specify Prediction Target\n",
    "Select the target variable, which corresponds to the sales price. Save this to a new variable called `y`. You'll need to print a list of the columns to find the name of the column you need.\n"
   ]
  },
  {
   "cell_type": "code",
   "execution_count": 2,
   "id": "7c0db819",
   "metadata": {
    "execution": {
     "iopub.execute_input": "2022-09-10T10:16:03.436103Z",
     "iopub.status.busy": "2022-09-10T10:16:03.435398Z",
     "iopub.status.idle": "2022-09-10T10:16:03.452302Z",
     "shell.execute_reply": "2022-09-10T10:16:03.451156Z"
    },
    "papermill": {
     "duration": 0.027398,
     "end_time": "2022-09-10T10:16:03.454604",
     "exception": false,
     "start_time": "2022-09-10T10:16:03.427206",
     "status": "completed"
    },
    "tags": []
   },
   "outputs": [
    {
     "data": {
      "text/plain": [
       "Index(['Id', 'MSSubClass', 'MSZoning', 'LotFrontage', 'LotArea', 'Street',\n",
       "       'Alley', 'LotShape', 'LandContour', 'Utilities', 'LotConfig',\n",
       "       'LandSlope', 'Neighborhood', 'Condition1', 'Condition2', 'BldgType',\n",
       "       'HouseStyle', 'OverallQual', 'OverallCond', 'YearBuilt', 'YearRemodAdd',\n",
       "       'RoofStyle', 'RoofMatl', 'Exterior1st', 'Exterior2nd', 'MasVnrType',\n",
       "       'MasVnrArea', 'ExterQual', 'ExterCond', 'Foundation', 'BsmtQual',\n",
       "       'BsmtCond', 'BsmtExposure', 'BsmtFinType1', 'BsmtFinSF1',\n",
       "       'BsmtFinType2', 'BsmtFinSF2', 'BsmtUnfSF', 'TotalBsmtSF', 'Heating',\n",
       "       'HeatingQC', 'CentralAir', 'Electrical', '1stFlrSF', '2ndFlrSF',\n",
       "       'LowQualFinSF', 'GrLivArea', 'BsmtFullBath', 'BsmtHalfBath', 'FullBath',\n",
       "       'HalfBath', 'BedroomAbvGr', 'KitchenAbvGr', 'KitchenQual',\n",
       "       'TotRmsAbvGrd', 'Functional', 'Fireplaces', 'FireplaceQu', 'GarageType',\n",
       "       'GarageYrBlt', 'GarageFinish', 'GarageCars', 'GarageArea', 'GarageQual',\n",
       "       'GarageCond', 'PavedDrive', 'WoodDeckSF', 'OpenPorchSF',\n",
       "       'EnclosedPorch', '3SsnPorch', 'ScreenPorch', 'PoolArea', 'PoolQC',\n",
       "       'Fence', 'MiscFeature', 'MiscVal', 'MoSold', 'YrSold', 'SaleType',\n",
       "       'SaleCondition', 'SalePrice'],\n",
       "      dtype='object')"
      ]
     },
     "execution_count": 2,
     "metadata": {},
     "output_type": "execute_result"
    }
   ],
   "source": [
    "# print the list of columns in the dataset to find the name of the prediction target\n",
    "home_data.columns"
   ]
  },
  {
   "cell_type": "code",
   "execution_count": 3,
   "id": "e01aa031",
   "metadata": {
    "execution": {
     "iopub.execute_input": "2022-09-10T10:16:03.477424Z",
     "iopub.status.busy": "2022-09-10T10:16:03.476137Z",
     "iopub.status.idle": "2022-09-10T10:16:03.496538Z",
     "shell.execute_reply": "2022-09-10T10:16:03.495290Z"
    },
    "papermill": {
     "duration": 0.036984,
     "end_time": "2022-09-10T10:16:03.499253",
     "exception": false,
     "start_time": "2022-09-10T10:16:03.462269",
     "status": "completed"
    },
    "tags": []
   },
   "outputs": [
    {
     "data": {
      "application/javascript": [
       "parent.postMessage({\"jupyterEvent\": \"custom.exercise_interaction\", \"data\": {\"outcomeType\": 1, \"valueTowardsCompletion\": 0.25, \"interactionType\": 1, \"questionType\": 2, \"questionId\": \"1_SetTarget\", \"learnToolsVersion\": \"0.3.4\", \"failureMessage\": \"\", \"exceptionClass\": \"\", \"trace\": \"\"}}, \"*\")"
      ],
      "text/plain": [
       "<IPython.core.display.Javascript object>"
      ]
     },
     "metadata": {},
     "output_type": "display_data"
    },
    {
     "data": {
      "text/markdown": [
       "<span style=\"color:#33cc33\">Correct</span>"
      ],
      "text/plain": [
       "Correct"
      ]
     },
     "metadata": {},
     "output_type": "display_data"
    }
   ],
   "source": [
    "y = home_data.SalePrice\n",
    "\n",
    "# Check your answer\n",
    "step_1.check()"
   ]
  },
  {
   "cell_type": "code",
   "execution_count": 4,
   "id": "c6555ee0",
   "metadata": {
    "execution": {
     "iopub.execute_input": "2022-09-10T10:16:03.517022Z",
     "iopub.status.busy": "2022-09-10T10:16:03.515496Z",
     "iopub.status.idle": "2022-09-10T10:16:03.521611Z",
     "shell.execute_reply": "2022-09-10T10:16:03.520069Z"
    },
    "papermill": {
     "duration": 0.018912,
     "end_time": "2022-09-10T10:16:03.525416",
     "exception": false,
     "start_time": "2022-09-10T10:16:03.506504",
     "status": "completed"
    },
    "tags": []
   },
   "outputs": [],
   "source": [
    "# The lines below will show you a hint or the solution.\n",
    "# step_1.hint() \n",
    "# step_1.solution()"
   ]
  },
  {
   "cell_type": "markdown",
   "id": "7408d737",
   "metadata": {
    "papermill": {
     "duration": 0.005848,
     "end_time": "2022-09-10T10:16:03.540311",
     "exception": false,
     "start_time": "2022-09-10T10:16:03.534463",
     "status": "completed"
    },
    "tags": []
   },
   "source": [
    "## Step 2: Create X\n",
    "Now you will create a DataFrame called `X` holding the predictive features.\n",
    "\n",
    "Since you want only some columns from the original data, you'll first create a list with the names of the columns you want in `X`.\n",
    "\n",
    "You'll use just the following columns in the list (you can copy and paste the whole list to save some typing, though you'll still need to add quotes):\n",
    "  * LotArea\n",
    "  * YearBuilt\n",
    "  * 1stFlrSF\n",
    "  * 2ndFlrSF\n",
    "  * FullBath\n",
    "  * BedroomAbvGr\n",
    "  * TotRmsAbvGrd\n",
    "\n",
    "After you've created that list of features, use it to create the DataFrame that you'll use to fit the model."
   ]
  },
  {
   "cell_type": "code",
   "execution_count": 5,
   "id": "72709dfb",
   "metadata": {
    "execution": {
     "iopub.execute_input": "2022-09-10T10:16:03.553913Z",
     "iopub.status.busy": "2022-09-10T10:16:03.553514Z",
     "iopub.status.idle": "2022-09-10T10:16:03.571605Z",
     "shell.execute_reply": "2022-09-10T10:16:03.570086Z"
    },
    "papermill": {
     "duration": 0.028117,
     "end_time": "2022-09-10T10:16:03.574340",
     "exception": false,
     "start_time": "2022-09-10T10:16:03.546223",
     "status": "completed"
    },
    "tags": []
   },
   "outputs": [
    {
     "data": {
      "application/javascript": [
       "parent.postMessage({\"jupyterEvent\": \"custom.exercise_interaction\", \"data\": {\"outcomeType\": 1, \"valueTowardsCompletion\": 0.25, \"interactionType\": 1, \"questionType\": 2, \"questionId\": \"2_SelectPredictionData\", \"learnToolsVersion\": \"0.3.4\", \"failureMessage\": \"\", \"exceptionClass\": \"\", \"trace\": \"\"}}, \"*\")"
      ],
      "text/plain": [
       "<IPython.core.display.Javascript object>"
      ]
     },
     "metadata": {},
     "output_type": "display_data"
    },
    {
     "data": {
      "text/markdown": [
       "<span style=\"color:#33cc33\">Correct</span>"
      ],
      "text/plain": [
       "Correct"
      ]
     },
     "metadata": {},
     "output_type": "display_data"
    }
   ],
   "source": [
    "# Create the list of features below\n",
    "feature_names = [\"LotArea\", \"YearBuilt\", \"1stFlrSF\", \"2ndFlrSF\",\n",
    "     \"FullBath\", \"BedroomAbvGr\", \"TotRmsAbvGrd\"]\n",
    "\n",
    "# Select data corresponding to features in feature_names\n",
    "X = home_data[feature_names]\n",
    "\n",
    "# Check your answer\n",
    "step_2.check()"
   ]
  },
  {
   "cell_type": "code",
   "execution_count": 6,
   "id": "d84d9a65",
   "metadata": {
    "execution": {
     "iopub.execute_input": "2022-09-10T10:16:03.588990Z",
     "iopub.status.busy": "2022-09-10T10:16:03.588162Z",
     "iopub.status.idle": "2022-09-10T10:16:03.594067Z",
     "shell.execute_reply": "2022-09-10T10:16:03.592415Z"
    },
    "papermill": {
     "duration": 0.016095,
     "end_time": "2022-09-10T10:16:03.596479",
     "exception": false,
     "start_time": "2022-09-10T10:16:03.580384",
     "status": "completed"
    },
    "tags": []
   },
   "outputs": [],
   "source": [
    "# step_2.hint()\n",
    "# step_2.solution()"
   ]
  },
  {
   "cell_type": "markdown",
   "id": "aeea25e1",
   "metadata": {
    "papermill": {
     "duration": 0.005532,
     "end_time": "2022-09-10T10:16:03.607992",
     "exception": false,
     "start_time": "2022-09-10T10:16:03.602460",
     "status": "completed"
    },
    "tags": []
   },
   "source": [
    "## Review Data\n",
    "Before building a model, take a quick look at **X** to verify it looks sensible"
   ]
  },
  {
   "cell_type": "code",
   "execution_count": 7,
   "id": "39b06e5e",
   "metadata": {
    "execution": {
     "iopub.execute_input": "2022-09-10T10:16:03.621183Z",
     "iopub.status.busy": "2022-09-10T10:16:03.620789Z",
     "iopub.status.idle": "2022-09-10T10:16:03.661760Z",
     "shell.execute_reply": "2022-09-10T10:16:03.660438Z"
    },
    "papermill": {
     "duration": 0.05126,
     "end_time": "2022-09-10T10:16:03.665098",
     "exception": false,
     "start_time": "2022-09-10T10:16:03.613838",
     "status": "completed"
    },
    "tags": []
   },
   "outputs": [
    {
     "name": "stdout",
     "output_type": "stream",
     "text": [
      "             LotArea    YearBuilt     1stFlrSF     2ndFlrSF     FullBath  \\\n",
      "count    1460.000000  1460.000000  1460.000000  1460.000000  1460.000000   \n",
      "mean    10516.828082  1971.267808  1162.626712   346.992466     1.565068   \n",
      "std      9981.264932    30.202904   386.587738   436.528436     0.550916   \n",
      "min      1300.000000  1872.000000   334.000000     0.000000     0.000000   \n",
      "25%      7553.500000  1954.000000   882.000000     0.000000     1.000000   \n",
      "50%      9478.500000  1973.000000  1087.000000     0.000000     2.000000   \n",
      "75%     11601.500000  2000.000000  1391.250000   728.000000     2.000000   \n",
      "max    215245.000000  2010.000000  4692.000000  2065.000000     3.000000   \n",
      "\n",
      "       BedroomAbvGr  TotRmsAbvGrd  \n",
      "count   1460.000000   1460.000000  \n",
      "mean       2.866438      6.517808  \n",
      "std        0.815778      1.625393  \n",
      "min        0.000000      2.000000  \n",
      "25%        2.000000      5.000000  \n",
      "50%        3.000000      6.000000  \n",
      "75%        3.000000      7.000000  \n",
      "max        8.000000     14.000000  \n",
      "   LotArea  YearBuilt  1stFlrSF  2ndFlrSF  FullBath  BedroomAbvGr  \\\n",
      "0     8450       2003       856       854         2             3   \n",
      "1     9600       1976      1262         0         2             3   \n",
      "2    11250       2001       920       866         2             3   \n",
      "3     9550       1915       961       756         1             3   \n",
      "4    14260       2000      1145      1053         2             4   \n",
      "\n",
      "   TotRmsAbvGrd  \n",
      "0             8  \n",
      "1             6  \n",
      "2             6  \n",
      "3             7  \n",
      "4             9  \n"
     ]
    }
   ],
   "source": [
    "# Review data\n",
    "# print description or statistics from X\n",
    "print(X.describe())\n",
    "\n",
    "# print the top few lines\n",
    "print(X.head())"
   ]
  },
  {
   "cell_type": "markdown",
   "id": "a976699c",
   "metadata": {
    "papermill": {
     "duration": 0.005626,
     "end_time": "2022-09-10T10:16:03.677276",
     "exception": false,
     "start_time": "2022-09-10T10:16:03.671650",
     "status": "completed"
    },
    "tags": []
   },
   "source": [
    "## Step 3: Specify and Fit Model\n",
    "Create a `DecisionTreeRegressor` and save it iowa_model. Ensure you've done the relevant import from sklearn to run this command.\n",
    "\n",
    "Then fit the model you just created using the data in `X` and `y` that you saved above."
   ]
  },
  {
   "cell_type": "code",
   "execution_count": 8,
   "id": "5362790d",
   "metadata": {
    "execution": {
     "iopub.execute_input": "2022-09-10T10:16:03.691520Z",
     "iopub.status.busy": "2022-09-10T10:16:03.691154Z",
     "iopub.status.idle": "2022-09-10T10:16:03.711947Z",
     "shell.execute_reply": "2022-09-10T10:16:03.710722Z"
    },
    "papermill": {
     "duration": 0.031822,
     "end_time": "2022-09-10T10:16:03.714982",
     "exception": false,
     "start_time": "2022-09-10T10:16:03.683160",
     "status": "completed"
    },
    "tags": []
   },
   "outputs": [
    {
     "data": {
      "application/javascript": [
       "parent.postMessage({\"jupyterEvent\": \"custom.exercise_interaction\", \"data\": {\"outcomeType\": 1, \"valueTowardsCompletion\": 0.25, \"interactionType\": 1, \"questionType\": 2, \"questionId\": \"3_CreateModel\", \"learnToolsVersion\": \"0.3.4\", \"failureMessage\": \"\", \"exceptionClass\": \"\", \"trace\": \"\"}}, \"*\")"
      ],
      "text/plain": [
       "<IPython.core.display.Javascript object>"
      ]
     },
     "metadata": {},
     "output_type": "display_data"
    },
    {
     "data": {
      "text/markdown": [
       "<span style=\"color:#33cc33\">Correct</span>"
      ],
      "text/plain": [
       "Correct"
      ]
     },
     "metadata": {},
     "output_type": "display_data"
    }
   ],
   "source": [
    "from sklearn.tree import DecisionTreeRegressor\n",
    "#specify the model. \n",
    "#For model reproducibility, set a numeric value for random_state when specifying the model\n",
    "iowa_model = DecisionTreeRegressor(random_state=2)\n",
    "\n",
    "# Fit the model\n",
    "iowa_model.fit(X, y)\n",
    "\n",
    "# Check your answer\n",
    "step_3.check()"
   ]
  },
  {
   "cell_type": "code",
   "execution_count": 9,
   "id": "7772f24d",
   "metadata": {
    "execution": {
     "iopub.execute_input": "2022-09-10T10:16:03.729819Z",
     "iopub.status.busy": "2022-09-10T10:16:03.728756Z",
     "iopub.status.idle": "2022-09-10T10:16:03.733910Z",
     "shell.execute_reply": "2022-09-10T10:16:03.732863Z"
    },
    "papermill": {
     "duration": 0.015251,
     "end_time": "2022-09-10T10:16:03.736347",
     "exception": false,
     "start_time": "2022-09-10T10:16:03.721096",
     "status": "completed"
    },
    "tags": []
   },
   "outputs": [],
   "source": [
    "# step_3.hint()\n",
    "# step_3.solution()"
   ]
  },
  {
   "cell_type": "markdown",
   "id": "b09aa6ac",
   "metadata": {
    "papermill": {
     "duration": 0.005756,
     "end_time": "2022-09-10T10:16:03.748160",
     "exception": false,
     "start_time": "2022-09-10T10:16:03.742404",
     "status": "completed"
    },
    "tags": []
   },
   "source": [
    "## Step 4: Make Predictions\n",
    "Make predictions with the model's `predict` command using `X` as the data. Save the results to a variable called `predictions`."
   ]
  },
  {
   "cell_type": "code",
   "execution_count": 10,
   "id": "52f8775c",
   "metadata": {
    "execution": {
     "iopub.execute_input": "2022-09-10T10:16:03.762689Z",
     "iopub.status.busy": "2022-09-10T10:16:03.761881Z",
     "iopub.status.idle": "2022-09-10T10:16:03.779941Z",
     "shell.execute_reply": "2022-09-10T10:16:03.778433Z"
    },
    "papermill": {
     "duration": 0.028111,
     "end_time": "2022-09-10T10:16:03.782451",
     "exception": false,
     "start_time": "2022-09-10T10:16:03.754340",
     "status": "completed"
    },
    "tags": []
   },
   "outputs": [
    {
     "name": "stdout",
     "output_type": "stream",
     "text": [
      "[208500. 181500. 223500. ... 266500. 142125. 147500.]\n"
     ]
    },
    {
     "data": {
      "application/javascript": [
       "parent.postMessage({\"jupyterEvent\": \"custom.exercise_interaction\", \"data\": {\"outcomeType\": 1, \"valueTowardsCompletion\": 0.25, \"interactionType\": 1, \"questionType\": 2, \"questionId\": \"4_MakePredictions\", \"learnToolsVersion\": \"0.3.4\", \"failureMessage\": \"\", \"exceptionClass\": \"\", \"trace\": \"\"}}, \"*\")"
      ],
      "text/plain": [
       "<IPython.core.display.Javascript object>"
      ]
     },
     "metadata": {},
     "output_type": "display_data"
    },
    {
     "data": {
      "text/markdown": [
       "<span style=\"color:#33cc33\">Correct</span>"
      ],
      "text/plain": [
       "Correct"
      ]
     },
     "metadata": {},
     "output_type": "display_data"
    }
   ],
   "source": [
    "predictions = iowa_model.predict(X)\n",
    "print(predictions)\n",
    "\n",
    "# Check your answer\n",
    "step_4.check()"
   ]
  },
  {
   "cell_type": "code",
   "execution_count": 11,
   "id": "3c6d41f6",
   "metadata": {
    "execution": {
     "iopub.execute_input": "2022-09-10T10:16:03.797680Z",
     "iopub.status.busy": "2022-09-10T10:16:03.796893Z",
     "iopub.status.idle": "2022-09-10T10:16:03.801575Z",
     "shell.execute_reply": "2022-09-10T10:16:03.800725Z"
    },
    "papermill": {
     "duration": 0.014994,
     "end_time": "2022-09-10T10:16:03.804006",
     "exception": false,
     "start_time": "2022-09-10T10:16:03.789012",
     "status": "completed"
    },
    "tags": []
   },
   "outputs": [],
   "source": [
    "# step_4.hint()\n",
    "# step_4.solution()"
   ]
  },
  {
   "cell_type": "markdown",
   "id": "85435a20",
   "metadata": {
    "papermill": {
     "duration": 0.006314,
     "end_time": "2022-09-10T10:16:03.816704",
     "exception": false,
     "start_time": "2022-09-10T10:16:03.810390",
     "status": "completed"
    },
    "tags": []
   },
   "source": [
    "## Think About Your Results\n",
    "\n",
    "Use the `head` method to compare the top few predictions to the actual home values (in `y`) for those same homes. Anything surprising?\n"
   ]
  },
  {
   "cell_type": "code",
   "execution_count": 12,
   "id": "d4b94c5f",
   "metadata": {
    "execution": {
     "iopub.execute_input": "2022-09-10T10:16:03.831928Z",
     "iopub.status.busy": "2022-09-10T10:16:03.831516Z",
     "iopub.status.idle": "2022-09-10T10:16:03.836331Z",
     "shell.execute_reply": "2022-09-10T10:16:03.835105Z"
    },
    "papermill": {
     "duration": 0.01551,
     "end_time": "2022-09-10T10:16:03.838875",
     "exception": false,
     "start_time": "2022-09-10T10:16:03.823365",
     "status": "completed"
    },
    "tags": []
   },
   "outputs": [],
   "source": [
    "# You can write code in this cell\n"
   ]
  },
  {
   "cell_type": "markdown",
   "id": "28922462",
   "metadata": {
    "papermill": {
     "duration": 0.006096,
     "end_time": "2022-09-10T10:16:03.851451",
     "exception": false,
     "start_time": "2022-09-10T10:16:03.845355",
     "status": "completed"
    },
    "tags": []
   },
   "source": [
    "It's natural to ask how accurate the model's predictions will be and how you can improve that. That will be you're next step.\n",
    "\n",
    "# Keep Going\n",
    "\n",
    "You are ready for **[Model Validation](https://www.kaggle.com/dansbecker/model-validation).**\n"
   ]
  },
  {
   "cell_type": "markdown",
   "id": "a3e93c2b",
   "metadata": {
    "papermill": {
     "duration": 0.006141,
     "end_time": "2022-09-10T10:16:03.864212",
     "exception": false,
     "start_time": "2022-09-10T10:16:03.858071",
     "status": "completed"
    },
    "tags": []
   },
   "source": [
    "---\n",
    "\n",
    "\n",
    "\n",
    "\n",
    "*Have questions or comments? Visit the [course discussion forum](https://www.kaggle.com/learn/intro-to-machine-learning/discussion) to chat with other learners.*"
   ]
  }
 ],
 "metadata": {
  "kernelspec": {
   "display_name": "Python 3",
   "language": "python",
   "name": "python3"
  },
  "language_info": {
   "codemirror_mode": {
    "name": "ipython",
    "version": 3
   },
   "file_extension": ".py",
   "mimetype": "text/x-python",
   "name": "python",
   "nbconvert_exporter": "python",
   "pygments_lexer": "ipython3",
   "version": "3.7.12"
  },
  "papermill": {
   "default_parameters": {},
   "duration": 12.894963,
   "end_time": "2022-09-10T10:16:04.693660",
   "environment_variables": {},
   "exception": null,
   "input_path": "__notebook__.ipynb",
   "output_path": "__notebook__.ipynb",
   "parameters": {},
   "start_time": "2022-09-10T10:15:51.798697",
   "version": "2.3.4"
  }
 },
 "nbformat": 4,
 "nbformat_minor": 5
}
