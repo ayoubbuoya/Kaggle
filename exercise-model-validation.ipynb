{
 "cells": [
  {
   "cell_type": "markdown",
   "id": "2129fa25",
   "metadata": {
    "papermill": {
     "duration": 0.007759,
     "end_time": "2022-11-13T22:35:19.246704",
     "exception": false,
     "start_time": "2022-11-13T22:35:19.238945",
     "status": "completed"
    },
    "tags": []
   },
   "source": [
    "**This notebook is an exercise in the [Introduction to Machine Learning](https://www.kaggle.com/learn/intro-to-machine-learning) course.  You can reference the tutorial at [this link](https://www.kaggle.com/dansbecker/model-validation).**\n",
    "\n",
    "---\n"
   ]
  },
  {
   "cell_type": "markdown",
   "id": "f0c2b4b5",
   "metadata": {
    "papermill": {
     "duration": 0.004979,
     "end_time": "2022-11-13T22:35:19.258255",
     "exception": false,
     "start_time": "2022-11-13T22:35:19.253276",
     "status": "completed"
    },
    "tags": []
   },
   "source": [
    "## Recap\n",
    "You've built a model. In this exercise you will test how good your model is.\n",
    "\n",
    "Run the cell below to set up your coding environment where the previous exercise left off."
   ]
  },
  {
   "cell_type": "code",
   "execution_count": 1,
   "id": "e57012a6",
   "metadata": {
    "execution": {
     "iopub.execute_input": "2022-11-13T22:35:19.270585Z",
     "iopub.status.busy": "2022-11-13T22:35:19.269533Z",
     "iopub.status.idle": "2022-11-13T22:35:20.577137Z",
     "shell.execute_reply": "2022-11-13T22:35:20.575934Z"
    },
    "papermill": {
     "duration": 1.317269,
     "end_time": "2022-11-13T22:35:20.579962",
     "exception": false,
     "start_time": "2022-11-13T22:35:19.262693",
     "status": "completed"
    },
    "tags": []
   },
   "outputs": [
    {
     "name": "stdout",
     "output_type": "stream",
     "text": [
      "First in-sample predictions: [208500. 181500. 223500. 140000. 250000.]\n",
      "Actual target values for those homes: [208500, 181500, 223500, 140000, 250000]\n",
      "Setup Complete\n"
     ]
    }
   ],
   "source": [
    "# Code you have previously used to load data\n",
    "import pandas as pd\n",
    "from sklearn.tree import DecisionTreeRegressor\n",
    "\n",
    "# Path of the file to read\n",
    "iowa_file_path = '../input/home-data-for-ml-course/train.csv'\n",
    "\n",
    "home_data = pd.read_csv(iowa_file_path)\n",
    "y = home_data.SalePrice\n",
    "feature_columns = ['LotArea', 'YearBuilt', '1stFlrSF', '2ndFlrSF', 'FullBath', 'BedroomAbvGr', 'TotRmsAbvGrd']\n",
    "X = home_data[feature_columns]\n",
    "\n",
    "# Specify Model\n",
    "iowa_model = DecisionTreeRegressor()\n",
    "# Fit Model\n",
    "iowa_model.fit(X, y)\n",
    "\n",
    "print(\"First in-sample predictions:\", iowa_model.predict(X.head()))\n",
    "print(\"Actual target values for those homes:\", y.head().tolist())\n",
    "\n",
    "# Set up code checking\n",
    "from learntools.core import binder\n",
    "binder.bind(globals())\n",
    "from learntools.machine_learning.ex4 import *\n",
    "print(\"Setup Complete\")"
   ]
  },
  {
   "cell_type": "markdown",
   "id": "a359728d",
   "metadata": {
    "papermill": {
     "duration": 0.004431,
     "end_time": "2022-11-13T22:35:20.589286",
     "exception": false,
     "start_time": "2022-11-13T22:35:20.584855",
     "status": "completed"
    },
    "tags": []
   },
   "source": [
    "# Exercises\n",
    "\n",
    "## Step 1: Split Your Data\n",
    "Use the `train_test_split` function to split up your data.\n",
    "\n",
    "Give it the argument `random_state=1` so the `check` functions know what to expect when verifying your code.\n",
    "\n",
    "Recall, your features are loaded in the DataFrame **X** and your target is loaded in **y**.\n"
   ]
  },
  {
   "cell_type": "code",
   "execution_count": 2,
   "id": "a87c3f83",
   "metadata": {
    "execution": {
     "iopub.execute_input": "2022-11-13T22:35:20.601399Z",
     "iopub.status.busy": "2022-11-13T22:35:20.600126Z",
     "iopub.status.idle": "2022-11-13T22:35:20.619057Z",
     "shell.execute_reply": "2022-11-13T22:35:20.617698Z"
    },
    "papermill": {
     "duration": 0.027538,
     "end_time": "2022-11-13T22:35:20.621610",
     "exception": false,
     "start_time": "2022-11-13T22:35:20.594072",
     "status": "completed"
    },
    "tags": []
   },
   "outputs": [
    {
     "data": {
      "application/javascript": [
       "parent.postMessage({\"jupyterEvent\": \"custom.exercise_interaction\", \"data\": {\"outcomeType\": 1, \"valueTowardsCompletion\": 0.25, \"interactionType\": 1, \"questionType\": 2, \"questionId\": \"1_SplitData\", \"learnToolsVersion\": \"0.3.4\", \"failureMessage\": \"\", \"exceptionClass\": \"\", \"trace\": \"\"}}, \"*\")"
      ],
      "text/plain": [
       "<IPython.core.display.Javascript object>"
      ]
     },
     "metadata": {},
     "output_type": "display_data"
    },
    {
     "data": {
      "text/markdown": [
       "<span style=\"color:#33cc33\">Correct</span>"
      ],
      "text/plain": [
       "Correct"
      ]
     },
     "metadata": {},
     "output_type": "display_data"
    }
   ],
   "source": [
    "# Import the train_test_split function and uncomment\n",
    "# from _ import _\n",
    "from sklearn.model_selection import train_test_split\n",
    "\n",
    "# fill in and uncomment\n",
    "# train_X, val_X, train_y, val_y = ____\n",
    "train_X, val_X, train_y, val_y = train_test_split(X, y, random_state=1)\n",
    "# Check your answer\n",
    "step_1.check()"
   ]
  },
  {
   "cell_type": "code",
   "execution_count": 3,
   "id": "3a7d1719",
   "metadata": {
    "execution": {
     "iopub.execute_input": "2022-11-13T22:35:20.633543Z",
     "iopub.status.busy": "2022-11-13T22:35:20.632762Z",
     "iopub.status.idle": "2022-11-13T22:35:20.638090Z",
     "shell.execute_reply": "2022-11-13T22:35:20.637012Z"
    },
    "papermill": {
     "duration": 0.013932,
     "end_time": "2022-11-13T22:35:20.640487",
     "exception": false,
     "start_time": "2022-11-13T22:35:20.626555",
     "status": "completed"
    },
    "tags": []
   },
   "outputs": [],
   "source": [
    "# The lines below will show you a hint or the solution.\n",
    "# step_1.hint() \n",
    "# step_1.solution()\n"
   ]
  },
  {
   "cell_type": "markdown",
   "id": "cf239226",
   "metadata": {
    "papermill": {
     "duration": 0.004718,
     "end_time": "2022-11-13T22:35:20.650313",
     "exception": false,
     "start_time": "2022-11-13T22:35:20.645595",
     "status": "completed"
    },
    "tags": []
   },
   "source": [
    "## Step 2: Specify and Fit the Model\n",
    "\n",
    "Create a `DecisionTreeRegressor` model and fit it to the relevant data.\n",
    "Set `random_state` to 1 again when creating the model."
   ]
  },
  {
   "cell_type": "code",
   "execution_count": 4,
   "id": "e18a70ba",
   "metadata": {
    "execution": {
     "iopub.execute_input": "2022-11-13T22:35:20.661660Z",
     "iopub.status.busy": "2022-11-13T22:35:20.661145Z",
     "iopub.status.idle": "2022-11-13T22:35:20.689034Z",
     "shell.execute_reply": "2022-11-13T22:35:20.687921Z"
    },
    "papermill": {
     "duration": 0.036391,
     "end_time": "2022-11-13T22:35:20.691536",
     "exception": false,
     "start_time": "2022-11-13T22:35:20.655145",
     "status": "completed"
    },
    "tags": []
   },
   "outputs": [
    {
     "name": "stdout",
     "output_type": "stream",
     "text": [
      "[186500. 184000. 130000.  92000. 164500. 220000. 335000. 144152. 215000.\n",
      " 262000.]\n",
      "[186500. 184000. 130000.  92000. 164500. 220000. 335000. 144152. 215000.\n",
      " 262000.]\n"
     ]
    },
    {
     "data": {
      "application/javascript": [
       "parent.postMessage({\"jupyterEvent\": \"custom.exercise_interaction\", \"data\": {\"outcomeType\": 1, \"valueTowardsCompletion\": 0.25, \"interactionType\": 1, \"questionType\": 2, \"questionId\": \"2_FitModelWithTrain\", \"learnToolsVersion\": \"0.3.4\", \"failureMessage\": \"\", \"exceptionClass\": \"\", \"trace\": \"\"}}, \"*\")"
      ],
      "text/plain": [
       "<IPython.core.display.Javascript object>"
      ]
     },
     "metadata": {},
     "output_type": "display_data"
    },
    {
     "data": {
      "text/markdown": [
       "<span style=\"color:#33cc33\">Correct</span>"
      ],
      "text/plain": [
       "Correct"
      ]
     },
     "metadata": {},
     "output_type": "display_data"
    }
   ],
   "source": [
    "# You imported DecisionTreeRegressor in your last exercise\n",
    "# and that code has been copied to the setup code above. So, no need to\n",
    "# import it again\n",
    "from sklearn.tree import DecisionTreeRegressor\n",
    "# Specify the model\n",
    "iowa_model = DecisionTreeRegressor(random_state=1)\n",
    "\n",
    "# Fit iowa_model with the training data.\n",
    "iowa_model.fit(train_X, train_y)\n",
    "\n",
    "# Check your answer\n",
    "step_2.check()"
   ]
  },
  {
   "cell_type": "code",
   "execution_count": 5,
   "id": "7539a467",
   "metadata": {
    "execution": {
     "iopub.execute_input": "2022-11-13T22:35:20.703705Z",
     "iopub.status.busy": "2022-11-13T22:35:20.703256Z",
     "iopub.status.idle": "2022-11-13T22:35:20.708675Z",
     "shell.execute_reply": "2022-11-13T22:35:20.707152Z"
    },
    "papermill": {
     "duration": 0.014403,
     "end_time": "2022-11-13T22:35:20.711150",
     "exception": false,
     "start_time": "2022-11-13T22:35:20.696747",
     "status": "completed"
    },
    "tags": []
   },
   "outputs": [],
   "source": [
    "# step_2.hint()\n",
    "# step_2.solution()"
   ]
  },
  {
   "cell_type": "markdown",
   "id": "e0a625ac",
   "metadata": {
    "papermill": {
     "duration": 0.004853,
     "end_time": "2022-11-13T22:35:20.721324",
     "exception": false,
     "start_time": "2022-11-13T22:35:20.716471",
     "status": "completed"
    },
    "tags": []
   },
   "source": [
    "## Step 3: Make Predictions with Validation data\n"
   ]
  },
  {
   "cell_type": "code",
   "execution_count": 6,
   "id": "b69e0714",
   "metadata": {
    "execution": {
     "iopub.execute_input": "2022-11-13T22:35:20.733950Z",
     "iopub.status.busy": "2022-11-13T22:35:20.733460Z",
     "iopub.status.idle": "2022-11-13T22:35:20.746622Z",
     "shell.execute_reply": "2022-11-13T22:35:20.745478Z"
    },
    "papermill": {
     "duration": 0.022559,
     "end_time": "2022-11-13T22:35:20.749278",
     "exception": false,
     "start_time": "2022-11-13T22:35:20.726719",
     "status": "completed"
    },
    "tags": []
   },
   "outputs": [
    {
     "data": {
      "application/javascript": [
       "parent.postMessage({\"jupyterEvent\": \"custom.exercise_interaction\", \"data\": {\"outcomeType\": 1, \"valueTowardsCompletion\": 0.25, \"interactionType\": 1, \"questionType\": 2, \"questionId\": \"3_ValPreds\", \"learnToolsVersion\": \"0.3.4\", \"failureMessage\": \"\", \"exceptionClass\": \"\", \"trace\": \"\"}}, \"*\")"
      ],
      "text/plain": [
       "<IPython.core.display.Javascript object>"
      ]
     },
     "metadata": {},
     "output_type": "display_data"
    },
    {
     "data": {
      "text/markdown": [
       "<span style=\"color:#33cc33\">Correct</span>"
      ],
      "text/plain": [
       "Correct"
      ]
     },
     "metadata": {},
     "output_type": "display_data"
    }
   ],
   "source": [
    "# Predict with all validation observations\n",
    "val_predictions = iowa_model.predict(val_X)\n",
    "\n",
    "# Check your answer\n",
    "step_3.check()"
   ]
  },
  {
   "cell_type": "code",
   "execution_count": 7,
   "id": "cebaa6e7",
   "metadata": {
    "execution": {
     "iopub.execute_input": "2022-11-13T22:35:20.763268Z",
     "iopub.status.busy": "2022-11-13T22:35:20.762820Z",
     "iopub.status.idle": "2022-11-13T22:35:20.767943Z",
     "shell.execute_reply": "2022-11-13T22:35:20.766442Z"
    },
    "papermill": {
     "duration": 0.015068,
     "end_time": "2022-11-13T22:35:20.770426",
     "exception": false,
     "start_time": "2022-11-13T22:35:20.755358",
     "status": "completed"
    },
    "tags": []
   },
   "outputs": [],
   "source": [
    "# step_3.hint()\n",
    "# step_3.solution()"
   ]
  },
  {
   "cell_type": "markdown",
   "id": "14015a22",
   "metadata": {
    "papermill": {
     "duration": 0.005083,
     "end_time": "2022-11-13T22:35:20.781069",
     "exception": false,
     "start_time": "2022-11-13T22:35:20.775986",
     "status": "completed"
    },
    "tags": []
   },
   "source": [
    "Inspect your predictions and actual values from validation data."
   ]
  },
  {
   "cell_type": "code",
   "execution_count": 8,
   "id": "657ecb6f",
   "metadata": {
    "execution": {
     "iopub.execute_input": "2022-11-13T22:35:20.795809Z",
     "iopub.status.busy": "2022-11-13T22:35:20.795374Z",
     "iopub.status.idle": "2022-11-13T22:35:20.801736Z",
     "shell.execute_reply": "2022-11-13T22:35:20.800559Z"
    },
    "papermill": {
     "duration": 0.017706,
     "end_time": "2022-11-13T22:35:20.804281",
     "exception": false,
     "start_time": "2022-11-13T22:35:20.786575",
     "status": "completed"
    },
    "tags": []
   },
   "outputs": [
    {
     "name": "stdout",
     "output_type": "stream",
     "text": [
      "67000.0\n",
      "40000\n"
     ]
    }
   ],
   "source": [
    "# print the top few validation predictions\n",
    "print(val_predictions.min())\n",
    "# print the top few actual prices from validation data\n",
    "print(val_y.min())"
   ]
  },
  {
   "cell_type": "markdown",
   "id": "d2710cc6",
   "metadata": {
    "papermill": {
     "duration": 0.005309,
     "end_time": "2022-11-13T22:35:20.815279",
     "exception": false,
     "start_time": "2022-11-13T22:35:20.809970",
     "status": "completed"
    },
    "tags": []
   },
   "source": [
    "What do you notice that is different from what you saw with in-sample predictions (which are printed after the top code cell in this page).\n",
    "\n",
    "Do you remember why validation predictions differ from in-sample (or training) predictions? This is an important idea from the last lesson.\n",
    "\n",
    "## Step 4: Calculate the Mean Absolute Error in Validation Data\n"
   ]
  },
  {
   "cell_type": "code",
   "execution_count": 9,
   "id": "c193ad26",
   "metadata": {
    "execution": {
     "iopub.execute_input": "2022-11-13T22:35:20.828242Z",
     "iopub.status.busy": "2022-11-13T22:35:20.827790Z",
     "iopub.status.idle": "2022-11-13T22:35:20.839855Z",
     "shell.execute_reply": "2022-11-13T22:35:20.838661Z"
    },
    "papermill": {
     "duration": 0.021182,
     "end_time": "2022-11-13T22:35:20.842102",
     "exception": false,
     "start_time": "2022-11-13T22:35:20.820920",
     "status": "completed"
    },
    "tags": []
   },
   "outputs": [
    {
     "name": "stdout",
     "output_type": "stream",
     "text": [
      "29652.931506849316\n"
     ]
    },
    {
     "data": {
      "application/javascript": [
       "parent.postMessage({\"jupyterEvent\": \"custom.exercise_interaction\", \"data\": {\"outcomeType\": 1, \"valueTowardsCompletion\": 0.25, \"interactionType\": 1, \"questionType\": 1, \"questionId\": \"4_MAE\", \"learnToolsVersion\": \"0.3.4\", \"failureMessage\": \"\", \"exceptionClass\": \"\", \"trace\": \"\"}}, \"*\")"
      ],
      "text/plain": [
       "<IPython.core.display.Javascript object>"
      ]
     },
     "metadata": {},
     "output_type": "display_data"
    },
    {
     "data": {
      "text/markdown": [
       "<span style=\"color:#33cc33\">Correct</span>"
      ],
      "text/plain": [
       "Correct"
      ]
     },
     "metadata": {},
     "output_type": "display_data"
    }
   ],
   "source": [
    "from sklearn.metrics import mean_absolute_error\n",
    "val_mae = mean_absolute_error(val_y, val_predictions)\n",
    "\n",
    "# uncomment following line to see the validation_mae\n",
    "print(val_mae)\n",
    "\n",
    "# Check your answer\n",
    "step_4.check()"
   ]
  },
  {
   "cell_type": "code",
   "execution_count": 10,
   "id": "d02e459c",
   "metadata": {
    "execution": {
     "iopub.execute_input": "2022-11-13T22:35:20.855722Z",
     "iopub.status.busy": "2022-11-13T22:35:20.855323Z",
     "iopub.status.idle": "2022-11-13T22:35:20.860062Z",
     "shell.execute_reply": "2022-11-13T22:35:20.858630Z"
    },
    "papermill": {
     "duration": 0.014816,
     "end_time": "2022-11-13T22:35:20.862609",
     "exception": false,
     "start_time": "2022-11-13T22:35:20.847793",
     "status": "completed"
    },
    "tags": []
   },
   "outputs": [],
   "source": [
    "# step_4.hint()\n",
    "# step_4.solution()"
   ]
  },
  {
   "cell_type": "markdown",
   "id": "915ebafa",
   "metadata": {
    "papermill": {
     "duration": 0.005712,
     "end_time": "2022-11-13T22:35:20.874438",
     "exception": false,
     "start_time": "2022-11-13T22:35:20.868726",
     "status": "completed"
    },
    "tags": []
   },
   "source": [
    "Is that MAE good?  There isn't a general rule for what values are good that applies across applications. But you'll see how to use (and improve) this number in the next step.\n",
    "\n",
    "# Keep Going\n",
    "\n",
    "You are ready for **[Underfitting and Overfitting](https://www.kaggle.com/dansbecker/underfitting-and-overfitting).**\n"
   ]
  },
  {
   "cell_type": "markdown",
   "id": "3adebbde",
   "metadata": {
    "papermill": {
     "duration": 0.005475,
     "end_time": "2022-11-13T22:35:20.885768",
     "exception": false,
     "start_time": "2022-11-13T22:35:20.880293",
     "status": "completed"
    },
    "tags": []
   },
   "source": [
    "---\n",
    "\n",
    "\n",
    "\n",
    "\n",
    "*Have questions or comments? Visit the [course discussion forum](https://www.kaggle.com/learn/intro-to-machine-learning/discussion) to chat with other learners.*"
   ]
  }
 ],
 "metadata": {
  "kernelspec": {
   "display_name": "Python 3",
   "language": "python",
   "name": "python3"
  },
  "language_info": {
   "codemirror_mode": {
    "name": "ipython",
    "version": 3
   },
   "file_extension": ".py",
   "mimetype": "text/x-python",
   "name": "python",
   "nbconvert_exporter": "python",
   "pygments_lexer": "ipython3",
   "version": "3.7.12"
  },
  "papermill": {
   "default_parameters": {},
   "duration": 10.88483,
   "end_time": "2022-11-13T22:35:21.614435",
   "environment_variables": {},
   "exception": null,
   "input_path": "__notebook__.ipynb",
   "output_path": "__notebook__.ipynb",
   "parameters": {},
   "start_time": "2022-11-13T22:35:10.729605",
   "version": "2.3.4"
  }
 },
 "nbformat": 4,
 "nbformat_minor": 5
}
